{
 "cells": [
  {
   "cell_type": "code",
   "execution_count": 1,
   "id": "b9efe1c8-86d1-4107-b84f-b5087c2bfbed",
   "metadata": {},
   "outputs": [],
   "source": [
    "# To create a class and to call\n",
    "class display():\n",
    "    def Subfields():\n",
    "        print(\"Sub-fields in AI are:\")\n",
    "        print(\"Machine Learning\")\n",
    "        print(\"Neural Networks\")\n",
    "        print(\"Computer Vision\")\n",
    "        print(\"Robotics\")\n",
    "        print(\"Speech Processing\")  \n",
    "        print(\"Natural Language Processing\")  \n",
    "        return"
   ]
  },
  {
   "cell_type": "code",
   "execution_count": 47,
   "id": "80f4a5e0-aa22-464d-8ec4-4e9cae6f24be",
   "metadata": {},
   "outputs": [
    {
     "name": "stdout",
     "output_type": "stream",
     "text": [
      "Sub-fields in AI are:\n",
      "Machine Learning\n",
      "Neural Networks\n",
      "Computer Vision\n",
      "Robotics\n",
      "Speech Processing\n",
      "Natural Language Processing\n"
     ]
    }
   ],
   "source": [
    "display.Subfields() #calling fuction inside the class using class name without creating an object"
   ]
  },
  {
   "cell_type": "code",
   "execution_count": 13,
   "id": "c473bb62-058a-4352-966b-0353d120bb7d",
   "metadata": {},
   "outputs": [],
   "source": [
    "# Create a class that checks whether the given number is Odd or Even\n",
    "class check():\n",
    "    num=0\n",
    "    def __init__(self,n): #creating constructor to assign values\n",
    "        self.num=n        #assigning value to class variable\n",
    "    def OddorEven(self):\n",
    "        if(self.num%2==0):\n",
    "            c=\"The number is Even\"\n",
    "        else:\n",
    "            c=\"The number is Odd\"\n",
    "        return c"
   ]
  },
  {
   "cell_type": "code",
   "execution_count": 17,
   "id": "309e590f-3d9e-4228-a14d-2b1749016f75",
   "metadata": {},
   "outputs": [
    {
     "name": "stdin",
     "output_type": "stream",
     "text": [
      "Enter a number 8\n"
     ]
    },
    {
     "name": "stdout",
     "output_type": "stream",
     "text": [
      "The number is Even\n"
     ]
    }
   ],
   "source": [
    "n=int(input(\"Enter a number\"))\n",
    "c=check(n)  #creating instance of a class that is object\n",
    "msg=c.OddorEven() #calling function inside the class using dot operator\n",
    "print(msg)"
   ]
  },
  {
   "cell_type": "code",
   "execution_count": 31,
   "id": "d09ac863-162a-4d9a-9095-45d2d0484b5b",
   "metadata": {},
   "outputs": [],
   "source": [
    "# Create a class that tells elegibility of marriage for male and female according to their age limit like 21 for male and 18 for female\n",
    "class eligible():\n",
    "    gender=0\n",
    "    age=0\n",
    "    def __init__(self,gender,age):\n",
    "        self.gender=gender\n",
    "        self.age=age\n",
    "    def eligibility(self):\n",
    "        if(self.gender==\"Male\" and self.age >=21):\n",
    "            print(\"This male is eligible for marriage\")\n",
    "        elif(self.gender==\"Female\" and self.age >=18):\n",
    "            print(\"This female is eligible for marriage\")\n",
    "        else:\n",
    "            print(\"Not eligible for marriage\")\n",
    "        return"
   ]
  },
  {
   "cell_type": "code",
   "execution_count": 35,
   "id": "b60f90a5-9565-4102-9934-7b388e8a3120",
   "metadata": {},
   "outputs": [
    {
     "name": "stdin",
     "output_type": "stream",
     "text": [
      "Enter your gender Female\n",
      "Enter your Age 15\n"
     ]
    },
    {
     "name": "stdout",
     "output_type": "stream",
     "text": [
      "Not eligible for marriage\n"
     ]
    }
   ],
   "source": [
    "gender=input(\"Enter your gender\")\n",
    "age=int(input(\"Enter your Age\"))\n",
    "e=eligible(gender,age) #creating instance of a class that is object\n",
    "e.eligibility()  #calling function inside the class using dot operator"
   ]
  },
  {
   "cell_type": "code",
   "execution_count": 37,
   "id": "c9550f5d-96af-45b3-9326-9023bf9cabba",
   "metadata": {},
   "outputs": [],
   "source": [
    "class stupercent():\n",
    "    def percentage():\n",
    "        Total=0\n",
    "        marklist=[]\n",
    "        m=1\n",
    "        for i in range(0,5):\n",
    "            mark=int(input(\"Enter subject mark\"))\n",
    "            marklist.append(mark)\n",
    "            Total=Total+mark\n",
    "        for j in marklist:\n",
    "            print(\"Subject\",m,\"mark\",j)\n",
    "            m=m+1\n",
    "        print(\"The Total mark is\",Total)\n",
    "        percent=Total/500*100\n",
    "        print(\"The Percentage is \",percent)   \n",
    "        return"
   ]
  },
  {
   "cell_type": "code",
   "execution_count": 39,
   "id": "e327e53a-3f84-44b8-82b4-36129f60734e",
   "metadata": {},
   "outputs": [
    {
     "name": "stdin",
     "output_type": "stream",
     "text": [
      "Enter subject mark 89\n",
      "Enter subject mark 90\n",
      "Enter subject mark 99\n",
      "Enter subject mark 98\n",
      "Enter subject mark 89\n"
     ]
    },
    {
     "name": "stdout",
     "output_type": "stream",
     "text": [
      "Subject 1 mark 89\n",
      "Subject 2 mark 90\n",
      "Subject 3 mark 99\n",
      "Subject 4 mark 98\n",
      "Subject 5 mark 89\n",
      "The Total mark is 465\n",
      "The Percentage is  93.0\n"
     ]
    }
   ],
   "source": [
    "stupercent.percentage()"
   ]
  },
  {
   "cell_type": "code",
   "execution_count": 41,
   "id": "ab8e89f9-eeb4-4c15-be58-40539938f017",
   "metadata": {},
   "outputs": [],
   "source": [
    "class triangle():\n",
    "    height=0\n",
    "    breadth=0\n",
    "    h1=0\n",
    "    h2=0\n",
    "    breadth1=0\n",
    "    def __init__(self,h,b,h1,h2,b1):\n",
    "        self.height=h\n",
    "        self.breadth=b\n",
    "        self.h1=h1\n",
    "        self.h2=h2\n",
    "        self.breadth1=b1\n",
    "    def trianglearea(self):\n",
    "        area=(self.height*self.breadth)/2\n",
    "        print(\"Height of the triangle=\",self.height)\n",
    "        print(\"Breadth of the triangle=\",self.breadth)\n",
    "        print(\"Area of the triangle=\",area)\n",
    "        return\n",
    "    def triangleperimeter(self):\n",
    "        p=self.h1+self.h2+self.breadth1\n",
    "        print(\"\\n\\nHeight1 of the triangle=\",self.h1)\n",
    "        print(\"Height2 of the triangle=\",self.h2)\n",
    "        print(\"Breadth of the triangle=\",self.breadth1)\n",
    "        print(\"Perimeter of the triangle=\",p)\n",
    "        return"
   ]
  },
  {
   "cell_type": "code",
   "execution_count": 45,
   "id": "6c98698b-b1b6-4b25-91fa-08101b37b421",
   "metadata": {},
   "outputs": [
    {
     "name": "stdout",
     "output_type": "stream",
     "text": [
      "Height of the triangle= 32\n",
      "Breadth of the triangle= 34\n",
      "Area of the triangle= 544.0\n",
      "\n",
      "\n",
      "Height1 of the triangle= 2\n",
      "Height2 of the triangle= 4\n",
      "Breadth of the triangle= 4\n",
      "Perimeter of the triangle= 10\n"
     ]
    }
   ],
   "source": [
    "t=triangle(32,34,2,4,4) #creating instance that is object of the class\n",
    "t.trianglearea()   #calling function\n",
    "t.triangleperimeter() #calling function"
   ]
  },
  {
   "cell_type": "code",
   "execution_count": null,
   "id": "e547e5ab-f2d3-422c-9ad1-6137208250bf",
   "metadata": {},
   "outputs": [],
   "source": []
  }
 ],
 "metadata": {
  "kernelspec": {
   "display_name": "Python 3 (ipykernel)",
   "language": "python",
   "name": "python3"
  },
  "language_info": {
   "codemirror_mode": {
    "name": "ipython",
    "version": 3
   },
   "file_extension": ".py",
   "mimetype": "text/x-python",
   "name": "python",
   "nbconvert_exporter": "python",
   "pygments_lexer": "ipython3",
   "version": "3.12.4"
  }
 },
 "nbformat": 4,
 "nbformat_minor": 5
}
