{
 "cells": [
  {
   "cell_type": "code",
   "execution_count": 3,
   "id": "347b16f5-3aae-479a-afe8-2350ecaf5a12",
   "metadata": {},
   "outputs": [],
   "source": [
    "#Create function, and list out the items in the list\n",
    "def Subfields():\n",
    "    print(\"Sub-fields in AI are:\")\n",
    "    print(\"Machine Learning\")\n",
    "    print(\"Neural Networks\")\n",
    "    print(\"Computer Vision\")\n",
    "    print(\"Robotics\")\n",
    "    print(\"Speech Processing\")  \n",
    "    print(\"Natural Language Processing\")  \n",
    "    return"
   ]
  },
  {
   "cell_type": "code",
   "execution_count": 5,
   "id": "406720dd-9876-40c0-9682-c66f29209cf6",
   "metadata": {},
   "outputs": [
    {
     "name": "stdout",
     "output_type": "stream",
     "text": [
      "Sub-fields in AI are:\n",
      "Machine Learning\n",
      "Neural Networks\n",
      "Computer Vision\n",
      "Robotics\n",
      "Speech Processing\n",
      "Natural Language Processing\n"
     ]
    }
   ],
   "source": [
    "Subfields()"
   ]
  },
  {
   "cell_type": "code",
   "execution_count": 21,
   "id": "a1744524-692f-4149-bbe0-ae746a397526",
   "metadata": {},
   "outputs": [],
   "source": [
    "# Create a function that checks whether the given number is Odd or Even\n",
    "def OddorEven(num):\n",
    "    if(num%2==0):\n",
    "        c=\"The number is Even\"\n",
    "    else:\n",
    "        c=\"The number is Odd\"\n",
    "    return c"
   ]
  },
  {
   "cell_type": "code",
   "execution_count": 27,
   "id": "272513a9-6cd9-4620-ad52-f8f576a3ad4c",
   "metadata": {},
   "outputs": [
    {
     "name": "stdin",
     "output_type": "stream",
     "text": [
      "Enter a number 17\n"
     ]
    },
    {
     "name": "stdout",
     "output_type": "stream",
     "text": [
      "The number is Odd\n"
     ]
    }
   ],
   "source": [
    "n=int(input(\"Enter a number\"))\n",
    "check=OddorEven(n)\n",
    "print(check)"
   ]
  },
  {
   "cell_type": "code",
   "execution_count": 31,
   "id": "b76cc0c3-6a8f-478c-a993-3a0234008617",
   "metadata": {},
   "outputs": [],
   "source": [
    "# Create a function that tells elegibility of marriage for male and female according to their age limit like 21 for male and 18 for female\n",
    "def eligibility(gender,age):\n",
    "    if(gender==\"Male\" and age >=21):\n",
    "        print(\"This male eligible for marriage\")\n",
    "    elif(gender==\"Female\" and age >=18):\n",
    "        print(\"This female is eligible for marriage\")\n",
    "    else:\n",
    "        print(\"Not eligible for marriage\")\n",
    "    return"
   ]
  },
  {
   "cell_type": "code",
   "execution_count": 45,
   "id": "fb6ccf8b-fe20-4bc4-9bb4-9f371b5ad99c",
   "metadata": {},
   "outputs": [
    {
     "name": "stdin",
     "output_type": "stream",
     "text": [
      "Enter your gender Female\n",
      "Enter your Age 19\n"
     ]
    },
    {
     "name": "stdout",
     "output_type": "stream",
     "text": [
      "This female is eligible for marriage\n"
     ]
    }
   ],
   "source": [
    "gender=input(\"Enter your gender\")\n",
    "age=int(input(\"Enter your Age\"))\n",
    "eligibility(gender,age)    "
   ]
  },
  {
   "cell_type": "code",
   "execution_count": 135,
   "id": "8ef5c7b6-6708-48b0-8db7-1c09a6e0158d",
   "metadata": {},
   "outputs": [],
   "source": [
    "# calculate the percentage of your 10th mark\n",
    "import array as arr\n",
    "def percentage():\n",
    "    Total=0\n",
    "    marklist=[]\n",
    "    m=1\n",
    "    for i in range(0,5):\n",
    "        mark=int(input(\"Enter subject mark\"))\n",
    "        marklist.append(mark)\n",
    "        Total=Total+mark\n",
    "    for j in marklist:\n",
    "        print(\"Subject\",m,\"mark\",j)\n",
    "        m=m+1\n",
    "    print(\"The Total mark is\",Total)\n",
    "    percent=Total/500*100\n",
    "    print(\"The Percentage is \",percent)   \n",
    "    return"
   ]
  },
  {
   "cell_type": "code",
   "execution_count": 137,
   "id": "56b8617b-9790-4aab-99ba-ea5e3f468f32",
   "metadata": {},
   "outputs": [
    {
     "name": "stdin",
     "output_type": "stream",
     "text": [
      "Enter subject mark 90\n",
      "Enter subject mark 90\n",
      "Enter subject mark 98\n",
      "Enter subject mark 99\n",
      "Enter subject mark 90\n"
     ]
    },
    {
     "name": "stdout",
     "output_type": "stream",
     "text": [
      "Subject 1 mark 90\n",
      "Subject 2 mark 90\n",
      "Subject 3 mark 98\n",
      "Subject 4 mark 99\n",
      "Subject 5 mark 90\n",
      "The Total mark is 467\n",
      "The Percentage is  93.4\n"
     ]
    }
   ],
   "source": [
    "percentage()"
   ]
  },
  {
   "cell_type": "code",
   "execution_count": 21,
   "id": "df2df02f-6e5d-4634-bf93-084553e55ea5",
   "metadata": {},
   "outputs": [],
   "source": [
    "def trianglearea(height,breadth):\n",
    "    area=(height*breadth)/2\n",
    "    print(\"Height of the triangle=\",height)\n",
    "    print(\"Breadth of the triangle=\",breadth)\n",
    "    print(\"Area of the triangle=\",area)\n",
    "    return\n",
    "def triangleperimeter(h1,h2,breadth):\n",
    "    p=h1+h2+breadth\n",
    "    print(\"\\n\\nHeight1 of the triangle=\",h1)\n",
    "    print(\"Height2 of the triangle=\",h2)\n",
    "    print(\"Breadth of the triangle=\",breadth)\n",
    "    print(\"Perimeter of the triangle=\",p)\n",
    "    return"
   ]
  },
  {
   "cell_type": "code",
   "execution_count": 23,
   "id": "e9cf873b-5f13-4547-aa60-96041307f338",
   "metadata": {},
   "outputs": [
    {
     "name": "stdout",
     "output_type": "stream",
     "text": [
      "Height of the triangle= 32\n",
      "Breadth of the triangle= 34\n",
      "Area of the triangle= 544.0\n",
      "\n",
      "\n",
      "Height1 of the triangle= 2\n",
      "Height2 of the triangle= 4\n",
      "Breadth of the triangle= 4\n",
      "Perimeter of the triangle= 10\n"
     ]
    }
   ],
   "source": [
    "trianglearea(32,34)\n",
    "triangleperimeter(2,4,4)"
   ]
  },
  {
   "cell_type": "code",
   "execution_count": null,
   "id": "20976268-6bef-4f7a-93a2-6ca1f8936425",
   "metadata": {},
   "outputs": [],
   "source": []
  }
 ],
 "metadata": {
  "kernelspec": {
   "display_name": "Python 3 (ipykernel)",
   "language": "python",
   "name": "python3"
  },
  "language_info": {
   "codemirror_mode": {
    "name": "ipython",
    "version": 3
   },
   "file_extension": ".py",
   "mimetype": "text/x-python",
   "name": "python",
   "nbconvert_exporter": "python",
   "pygments_lexer": "ipython3",
   "version": "3.12.4"
  }
 },
 "nbformat": 4,
 "nbformat_minor": 5
}
