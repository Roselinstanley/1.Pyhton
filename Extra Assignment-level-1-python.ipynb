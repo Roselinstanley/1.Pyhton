{
 "cells": [
  {
   "cell_type": "code",
   "execution_count": 7,
   "id": "531b948d-f117-4d8d-8883-21ccfec71823",
   "metadata": {},
   "outputs": [
    {
     "name": "stdout",
     "output_type": "stream",
     "text": [
      "HOPE AI\n"
     ]
    }
   ],
   "source": [
    "print(\"HOPE AI\")"
   ]
  },
  {
   "cell_type": "code",
   "execution_count": 9,
   "id": "290879a8-6c5e-45ba-8d24-cd6b1aacf8f9",
   "metadata": {},
   "outputs": [
    {
     "name": "stdin",
     "output_type": "stream",
     "text": [
      "Enter your Name: ROSELIN\n",
      "Enter your Age: 40\n",
      "Enter your School Name: Avinashilingam\n",
      "Enter your Degree: Ph.D\n"
     ]
    },
    {
     "data": {
      "text/plain": [
       "'Ph.D'"
      ]
     },
     "execution_count": 9,
     "metadata": {},
     "output_type": "execute_result"
    }
   ],
   "source": [
    "input(\"Enter your Name:\")\n",
    "input(\"Enter your Age:\")\n",
    "input(\"Enter your School Name:\")\n",
    "input(\"Enter your Degree:\")"
   ]
  },
  {
   "cell_type": "code",
   "execution_count": 44,
   "id": "43e3bfe3-3cda-465b-b2b7-9dc4b7d80e2c",
   "metadata": {},
   "outputs": [
    {
     "name": "stdout",
     "output_type": "stream",
     "text": [
      "a= 43\n",
      "b= 34\n",
      "sum= 77\n"
     ]
    }
   ],
   "source": [
    "#Addition\n",
    "a= 43\n",
    "b= 34\n",
    "print(\"a=\",a)\n",
    "print(\"b=\",b)\n",
    "print(\"sum=\",a+b)"
   ]
  },
  {
   "cell_type": "code",
   "execution_count": 46,
   "id": "ec05630b-15b8-4b77-b738-6a254eed6aa9",
   "metadata": {},
   "outputs": [
    {
     "name": "stdout",
     "output_type": "stream",
     "text": [
      "a= 43\n",
      "b= 34\n",
      "sub= 9\n"
     ]
    }
   ],
   "source": [
    "#Subtraction\n",
    "a= 43\n",
    "b= 34\n",
    "print(\"a=\",a)\n",
    "print(\"b=\",b)\n",
    "print(\"sub=\",a-b)"
   ]
  },
  {
   "cell_type": "code",
   "execution_count": 20,
   "id": "022fe45d-e6f3-4255-a46f-bdb6152b5682",
   "metadata": {},
   "outputs": [
    {
     "name": "stdout",
     "output_type": "stream",
     "text": [
      "a= 63\n",
      "b= 97\n",
      "Product= 6111\n"
     ]
    }
   ],
   "source": [
    "#Multiplication\n",
    "a= 63\n",
    "b= 97\n",
    "print(\"a=\",a)\n",
    "print(\"b=\",b)\n",
    "print(\"Product=\",a*b)"
   ]
  },
  {
   "cell_type": "code",
   "execution_count": 24,
   "id": "7152c9d5-33ea-404a-aa7a-8e174fede13f",
   "metadata": {},
   "outputs": [
    {
     "name": "stdout",
     "output_type": "stream",
     "text": [
      "a= 76\n",
      "b= 31\n",
      "Float Division= 2.4516129032258065\n"
     ]
    }
   ],
   "source": [
    "#Float Division\n",
    "a= 76\n",
    "b= 31\n",
    "print(\"a=\",a)\n",
    "print(\"b=\",b)\n",
    "print(\"Float Division=\",a/b)"
   ]
  },
  {
   "cell_type": "code",
   "execution_count": 28,
   "id": "bd47da71-9848-4132-b35d-ff4d0dc151e7",
   "metadata": {},
   "outputs": [
    {
     "name": "stdout",
     "output_type": "stream",
     "text": [
      "a= 76\n",
      "b= 31\n",
      "Floor Division= 2\n"
     ]
    }
   ],
   "source": [
    "#Floor Division\n",
    "a= 76\n",
    "b= 31\n",
    "print(\"a=\",a)\n",
    "print(\"b=\",b)\n",
    "print(\"Floor Division=\",a//b)"
   ]
  },
  {
   "cell_type": "code",
   "execution_count": 34,
   "id": "0ce5e313-c328-4769-8c66-4bdea5b014d8",
   "metadata": {},
   "outputs": [
    {
     "name": "stdout",
     "output_type": "stream",
     "text": [
      "a= 76\n",
      "b= 31\n",
      "Modulo= 14\n"
     ]
    }
   ],
   "source": [
    "#Remainder ie Modulo Division\n",
    "a= 76\n",
    "b= 31\n",
    "print(\"a=\",a)\n",
    "print(\"b=\",b)\n",
    "print(\"Modulo=\",a%b)"
   ]
  },
  {
   "cell_type": "code",
   "execution_count": 38,
   "id": "0cb21edf-d0c9-4629-9003-2df46022bf65",
   "metadata": {},
   "outputs": [
    {
     "name": "stdout",
     "output_type": "stream",
     "text": [
      "a= 4\n",
      "b= 4\n",
      "Power= 256\n"
     ]
    }
   ],
   "source": [
    "#Power\n",
    "a= 4\n",
    "b= 4\n",
    "print(\"a=\",a)\n",
    "print(\"b=\",b)\n",
    "print(\"Power=\",a**b)"
   ]
  },
  {
   "cell_type": "code",
   "execution_count": null,
   "id": "e0b1be1c-0e55-41d0-ad19-f8e5d96015ed",
   "metadata": {},
   "outputs": [],
   "source": []
  }
 ],
 "metadata": {
  "kernelspec": {
   "display_name": "Python 3 (ipykernel)",
   "language": "python",
   "name": "python3"
  },
  "language_info": {
   "codemirror_mode": {
    "name": "ipython",
    "version": 3
   },
   "file_extension": ".py",
   "mimetype": "text/x-python",
   "name": "python",
   "nbconvert_exporter": "python",
   "pygments_lexer": "ipython3",
   "version": "3.12.4"
  }
 },
 "nbformat": 4,
 "nbformat_minor": 5
}
