{
 "cells": [
  {
   "cell_type": "code",
   "execution_count": 11,
   "id": "e3f45b80-eee6-4fc9-905f-f24d27ac9dc7",
   "metadata": {},
   "outputs": [
    {
     "name": "stdin",
     "output_type": "stream",
     "text": [
      "Enter the Years of experience 15\n"
     ]
    },
    {
     "name": "stdout",
     "output_type": "stream",
     "text": [
      "Predicted Salary=[[167181.3106341]]\n"
     ]
    },
    {
     "name": "stderr",
     "output_type": "stream",
     "text": [
      "C:\\Users\\Admin\\anaconda3\\Lib\\site-packages\\sklearn\\base.py:493: UserWarning: X does not have valid feature names, but LinearRegression was fitted with feature names\n",
      "  warnings.warn(\n"
     ]
    }
   ],
   "source": [
    "#Deployment phase\n",
    "import pickle\n",
    "load_model=pickle.load(open(\"finalmodel.sav\",\"rb\")) #This which loads the final model which has been saved\n",
    "yoe=int(input(\"Enter the Years of experience\")) #getting the user input ie years of experience to predict salary\n",
    "pred=load_model.predict([[yoe]]) #predicting salary\n",
    "print(\"Predicted Salary={}\".format(pred))    #displaying predicted salary            "
   ]
  },
  {
   "cell_type": "code",
   "execution_count": null,
   "id": "41284501-88a4-4487-8cd7-fe7bb384a1c1",
   "metadata": {},
   "outputs": [],
   "source": []
  }
 ],
 "metadata": {
  "kernelspec": {
   "display_name": "Python 3 (ipykernel)",
   "language": "python",
   "name": "python3"
  },
  "language_info": {
   "codemirror_mode": {
    "name": "ipython",
    "version": 3
   },
   "file_extension": ".py",
   "mimetype": "text/x-python",
   "name": "python",
   "nbconvert_exporter": "python",
   "pygments_lexer": "ipython3",
   "version": "3.12.4"
  }
 },
 "nbformat": 4,
 "nbformat_minor": 5
}
