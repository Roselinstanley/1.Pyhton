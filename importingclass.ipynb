{
 "cells": [
  {
   "cell_type": "code",
   "execution_count": 65,
   "id": "5422e44c-d51e-4f3f-92c6-3f0f4ab8c44f",
   "metadata": {},
   "outputs": [],
   "source": [
    "from multiplecalc import multiplecalc"
   ]
  },
  {
   "cell_type": "code",
   "execution_count": 67,
   "id": "53e5d07c-62e3-463e-aaa2-b94c19c4bfac",
   "metadata": {},
   "outputs": [],
   "source": [
    "cal=multiplecalc(54532,\"Male\",22,32,34,2,4,4)"
   ]
  },
  {
   "cell_type": "code",
   "execution_count": 69,
   "id": "95cf7c23-3501-4067-a235-dbad02ed1291",
   "metadata": {},
   "outputs": [
    {
     "name": "stdout",
     "output_type": "stream",
     "text": [
      "Sub-fields in AI are:\n",
      "Machine Learning\n",
      "Neural Networks\n",
      "Computer Vision\n",
      "Robotics\n",
      "Speech Processing\n",
      "Natural Language Processing\n"
     ]
    }
   ],
   "source": [
    "multiplecalc.Subfields() #not passing parameters to the fuction so it is been called with class name"
   ]
  },
  {
   "cell_type": "code",
   "execution_count": 71,
   "id": "2a4d5847-c479-479f-b6c1-eb9d657bd177",
   "metadata": {},
   "outputs": [
    {
     "data": {
      "text/plain": [
       "'The number is Even'"
      ]
     },
     "execution_count": 71,
     "metadata": {},
     "output_type": "execute_result"
    }
   ],
   "source": [
    "\n",
    "cal.OddorEven() #passing parameters to the fuction so it is been called with object name"
   ]
  },
  {
   "cell_type": "code",
   "execution_count": 75,
   "id": "d65195ad-cafd-46c5-929e-edcf03d27aa5",
   "metadata": {},
   "outputs": [
    {
     "name": "stdout",
     "output_type": "stream",
     "text": [
      "Gender= Male\n",
      "Age= 22\n",
      "This male is eligible for marriage\n"
     ]
    }
   ],
   "source": [
    "cal.eligibility() #passing parameters to the fuction so it is been called with object name"
   ]
  },
  {
   "cell_type": "code",
   "execution_count": null,
   "id": "5649abdc-dff7-49e1-93d6-7e7e9fcb9e59",
   "metadata": {},
   "outputs": [],
   "source": []
  },
  {
   "cell_type": "code",
   "execution_count": 77,
   "id": "4bbc27c1-5f7f-4dad-98aa-3f4cab0aef2e",
   "metadata": {},
   "outputs": [
    {
     "name": "stdin",
     "output_type": "stream",
     "text": [
      "Enter subject mark 98\n",
      "Enter subject mark 98\n",
      "Enter subject mark 90\n",
      "Enter subject mark 90\n",
      "Enter subject mark 98\n"
     ]
    },
    {
     "name": "stdout",
     "output_type": "stream",
     "text": [
      "Subject 1 mark 98\n",
      "Subject 2 mark 98\n",
      "Subject 3 mark 90\n",
      "Subject 4 mark 90\n",
      "Subject 5 mark 98\n",
      "The Total mark is 474\n",
      "The Percentage is  94.8\n"
     ]
    }
   ],
   "source": [
    "multiplecalc.percentage() #not passing parameters to the fuction so it is been called with class name"
   ]
  },
  {
   "cell_type": "code",
   "execution_count": 79,
   "id": "5e66dc56-fd13-4b0f-91fc-238f449d4f30",
   "metadata": {},
   "outputs": [
    {
     "name": "stdout",
     "output_type": "stream",
     "text": [
      "Height of the triangle= 32\n",
      "Breadth of the triangle= 34\n",
      "Area of the triangle= 544.0\n"
     ]
    }
   ],
   "source": [
    "cal.trianglearea() #passing parameters to the fuction so it is been called with object name"
   ]
  },
  {
   "cell_type": "code",
   "execution_count": 81,
   "id": "66cd4e44-3ef6-42c7-af40-86f6a44b3f66",
   "metadata": {},
   "outputs": [
    {
     "name": "stdout",
     "output_type": "stream",
     "text": [
      "\n",
      "\n",
      "Height1 of the triangle= 2\n",
      "Height2 of the triangle= 4\n",
      "Breadth of the triangle= 4\n",
      "Perimeter of the triangle= 10\n"
     ]
    }
   ],
   "source": [
    "cal.triangleperimeter() #passing parameters to the fuction so it is been called with object name"
   ]
  },
  {
   "cell_type": "code",
   "execution_count": null,
   "id": "81f2afe6-3884-4321-899a-bc2819047a62",
   "metadata": {},
   "outputs": [],
   "source": []
  }
 ],
 "metadata": {
  "kernelspec": {
   "display_name": "Python 3 (ipykernel)",
   "language": "python",
   "name": "python3"
  },
  "language_info": {
   "codemirror_mode": {
    "name": "ipython",
    "version": 3
   },
   "file_extension": ".py",
   "mimetype": "text/x-python",
   "name": "python",
   "nbconvert_exporter": "python",
   "pygments_lexer": "ipython3",
   "version": "3.12.4"
  }
 },
 "nbformat": 4,
 "nbformat_minor": 5
}
