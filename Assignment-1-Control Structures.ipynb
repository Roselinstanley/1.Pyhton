{
 "cells": [
  {
   "cell_type": "code",
   "execution_count": 1,
   "id": "771773ee-2c2d-4514-80f0-ac95f39a3472",
   "metadata": {},
   "outputs": [
    {
     "name": "stdout",
     "output_type": "stream",
     "text": [
      "Welcome to Assignment-1\n"
     ]
    }
   ],
   "source": [
    "print(\"Welcome to Assignment-1\")"
   ]
  },
  {
   "cell_type": "code",
   "execution_count": null,
   "id": "c05fd351-e6a4-41dd-becd-2f74b172d7c2",
   "metadata": {},
   "outputs": [],
   "source": [
    "Num1=10\n",
    "Num2=20\n",
    "print(\"Num1=\",Num1)\n",
    "print(\"Num2=\",Num)\n",
    "print(\"Add=\",Num1+Num2)"
   ]
  },
  {
   "cell_type": "markdown",
   "id": "3ba13ad2-acea-42dd-96bd-360c68df67bb",
   "metadata": {},
   "source": [
    "Underweight: BMI less than 18.5\n",
    "Normal weight: BMI of 18.5 to 24.9\n",
    "Overweight: BMI of 25 to 29.9\n",
    "Obesity: BMI of 30 or higher\n",
    "Obesity is sometimes broken down into additional categories:\n",
    "\n",
    "Class 1 (mild obesity): BMI 30 to 34.9\n",
    "Class 2 (moderate obesity): BMI 35 to 39.9\n",
    "Class 3 (severe obesity): BMI of 40 or higher"
   ]
  },
  {
   "cell_type": "code",
   "execution_count": 10,
   "id": "37084ec7-d075-4302-85db-a3df9855a040",
   "metadata": {},
   "outputs": [
    {
     "name": "stdin",
     "output_type": "stream",
     "text": [
      "Enter your BMI index = 33\n"
     ]
    },
    {
     "name": "stdout",
     "output_type": "stream",
     "text": [
      "Mild obesity\n"
     ]
    }
   ],
   "source": [
    "BMI=int(input(\"Enter your BMI index =\"))\n",
    "if(BMI<18.5):\n",
    "    print(\"Under Weight\")\n",
    "elif(BMI >= 18.5 and BMI <= 24.9):\n",
    "    print(\"Normal weight\")\n",
    "elif(BMI >= 25 and BMI <= 29.9):\n",
    "    print(\"Overweight\")\n",
    "else:\n",
    "    if(BMI >= 30 and BMI <=34.9):\n",
    "         print(\"Mild obesity\")\n",
    "    elif(BMI >= 35 and BMI <=39.9):\n",
    "        print(\"Moderate obesity\")\n",
    "    else:\n",
    "        print(\"Severe obesity\")"
   ]
  },
  {
   "cell_type": "code",
   "execution_count": null,
   "id": "0a378f6c-b3ea-4fec-b97f-4899e5174664",
   "metadata": {},
   "outputs": [],
   "source": []
  }
 ],
 "metadata": {
  "kernelspec": {
   "display_name": "Python 3 (ipykernel)",
   "language": "python",
   "name": "python3"
  },
  "language_info": {
   "codemirror_mode": {
    "name": "ipython",
    "version": 3
   },
   "file_extension": ".py",
   "mimetype": "text/x-python",
   "name": "python",
   "nbconvert_exporter": "python",
   "pygments_lexer": "ipython3",
   "version": "3.12.4"
  }
 },
 "nbformat": 4,
 "nbformat_minor": 5
}
