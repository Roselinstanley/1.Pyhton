{
 "cells": [
  {
   "cell_type": "code",
   "execution_count": 6,
   "id": "dc9f3f01-b740-4688-aef8-e8b01415ea97",
   "metadata": {},
   "outputs": [],
   "source": [
    "#importing needed Libraries\n",
    "import pandas as pd #Pandas library in python has functions and classes for data analysis and Manipulation\n",
    "import matplotlib.pyplot as mp #Library fro data Visualisation\n",
    "import numpy as np #stands for numerical python which helps in scientific computing and provides N-dimensional array which helps in data operations"
   ]
  },
  {
   "cell_type": "code",
   "execution_count": 68,
   "id": "4e82f2e1-0ca3-4f09-8e55-1a854c810f8e",
   "metadata": {},
   "outputs": [
    {
     "data": {
      "text/html": [
       "<div>\n",
       "<style scoped>\n",
       "    .dataframe tbody tr th:only-of-type {\n",
       "        vertical-align: middle;\n",
       "    }\n",
       "\n",
       "    .dataframe tbody tr th {\n",
       "        vertical-align: top;\n",
       "    }\n",
       "\n",
       "    .dataframe thead th {\n",
       "        text-align: right;\n",
       "    }\n",
       "</style>\n",
       "<table border=\"1\" class=\"dataframe\">\n",
       "  <thead>\n",
       "    <tr style=\"text-align: right;\">\n",
       "      <th></th>\n",
       "      <th>YearsExperience</th>\n",
       "      <th>Salary</th>\n",
       "    </tr>\n",
       "  </thead>\n",
       "  <tbody>\n",
       "    <tr>\n",
       "      <th>0</th>\n",
       "      <td>1.1</td>\n",
       "      <td>39343.0</td>\n",
       "    </tr>\n",
       "    <tr>\n",
       "      <th>1</th>\n",
       "      <td>1.3</td>\n",
       "      <td>46205.0</td>\n",
       "    </tr>\n",
       "    <tr>\n",
       "      <th>2</th>\n",
       "      <td>1.5</td>\n",
       "      <td>37731.0</td>\n",
       "    </tr>\n",
       "    <tr>\n",
       "      <th>3</th>\n",
       "      <td>2.0</td>\n",
       "      <td>43525.0</td>\n",
       "    </tr>\n",
       "    <tr>\n",
       "      <th>4</th>\n",
       "      <td>2.2</td>\n",
       "      <td>39891.0</td>\n",
       "    </tr>\n",
       "    <tr>\n",
       "      <th>5</th>\n",
       "      <td>2.9</td>\n",
       "      <td>56642.0</td>\n",
       "    </tr>\n",
       "    <tr>\n",
       "      <th>6</th>\n",
       "      <td>3.0</td>\n",
       "      <td>60150.0</td>\n",
       "    </tr>\n",
       "    <tr>\n",
       "      <th>7</th>\n",
       "      <td>3.2</td>\n",
       "      <td>54445.0</td>\n",
       "    </tr>\n",
       "    <tr>\n",
       "      <th>8</th>\n",
       "      <td>3.2</td>\n",
       "      <td>64445.0</td>\n",
       "    </tr>\n",
       "    <tr>\n",
       "      <th>9</th>\n",
       "      <td>3.7</td>\n",
       "      <td>57189.0</td>\n",
       "    </tr>\n",
       "    <tr>\n",
       "      <th>10</th>\n",
       "      <td>3.9</td>\n",
       "      <td>63218.0</td>\n",
       "    </tr>\n",
       "    <tr>\n",
       "      <th>11</th>\n",
       "      <td>4.0</td>\n",
       "      <td>55794.0</td>\n",
       "    </tr>\n",
       "    <tr>\n",
       "      <th>12</th>\n",
       "      <td>4.0</td>\n",
       "      <td>56957.0</td>\n",
       "    </tr>\n",
       "    <tr>\n",
       "      <th>13</th>\n",
       "      <td>4.1</td>\n",
       "      <td>57081.0</td>\n",
       "    </tr>\n",
       "    <tr>\n",
       "      <th>14</th>\n",
       "      <td>4.5</td>\n",
       "      <td>61111.0</td>\n",
       "    </tr>\n",
       "    <tr>\n",
       "      <th>15</th>\n",
       "      <td>4.9</td>\n",
       "      <td>67938.0</td>\n",
       "    </tr>\n",
       "    <tr>\n",
       "      <th>16</th>\n",
       "      <td>5.1</td>\n",
       "      <td>66029.0</td>\n",
       "    </tr>\n",
       "    <tr>\n",
       "      <th>17</th>\n",
       "      <td>5.3</td>\n",
       "      <td>83088.0</td>\n",
       "    </tr>\n",
       "    <tr>\n",
       "      <th>18</th>\n",
       "      <td>5.9</td>\n",
       "      <td>81363.0</td>\n",
       "    </tr>\n",
       "    <tr>\n",
       "      <th>19</th>\n",
       "      <td>6.0</td>\n",
       "      <td>93940.0</td>\n",
       "    </tr>\n",
       "    <tr>\n",
       "      <th>20</th>\n",
       "      <td>6.8</td>\n",
       "      <td>91738.0</td>\n",
       "    </tr>\n",
       "    <tr>\n",
       "      <th>21</th>\n",
       "      <td>7.1</td>\n",
       "      <td>98273.0</td>\n",
       "    </tr>\n",
       "    <tr>\n",
       "      <th>22</th>\n",
       "      <td>7.9</td>\n",
       "      <td>101302.0</td>\n",
       "    </tr>\n",
       "    <tr>\n",
       "      <th>23</th>\n",
       "      <td>8.2</td>\n",
       "      <td>113812.0</td>\n",
       "    </tr>\n",
       "    <tr>\n",
       "      <th>24</th>\n",
       "      <td>8.7</td>\n",
       "      <td>109431.0</td>\n",
       "    </tr>\n",
       "    <tr>\n",
       "      <th>25</th>\n",
       "      <td>9.0</td>\n",
       "      <td>105582.0</td>\n",
       "    </tr>\n",
       "    <tr>\n",
       "      <th>26</th>\n",
       "      <td>9.5</td>\n",
       "      <td>116969.0</td>\n",
       "    </tr>\n",
       "    <tr>\n",
       "      <th>27</th>\n",
       "      <td>9.6</td>\n",
       "      <td>112635.0</td>\n",
       "    </tr>\n",
       "    <tr>\n",
       "      <th>28</th>\n",
       "      <td>10.3</td>\n",
       "      <td>122391.0</td>\n",
       "    </tr>\n",
       "    <tr>\n",
       "      <th>29</th>\n",
       "      <td>10.5</td>\n",
       "      <td>121872.0</td>\n",
       "    </tr>\n",
       "  </tbody>\n",
       "</table>\n",
       "</div>"
      ],
      "text/plain": [
       "    YearsExperience    Salary\n",
       "0               1.1   39343.0\n",
       "1               1.3   46205.0\n",
       "2               1.5   37731.0\n",
       "3               2.0   43525.0\n",
       "4               2.2   39891.0\n",
       "5               2.9   56642.0\n",
       "6               3.0   60150.0\n",
       "7               3.2   54445.0\n",
       "8               3.2   64445.0\n",
       "9               3.7   57189.0\n",
       "10              3.9   63218.0\n",
       "11              4.0   55794.0\n",
       "12              4.0   56957.0\n",
       "13              4.1   57081.0\n",
       "14              4.5   61111.0\n",
       "15              4.9   67938.0\n",
       "16              5.1   66029.0\n",
       "17              5.3   83088.0\n",
       "18              5.9   81363.0\n",
       "19              6.0   93940.0\n",
       "20              6.8   91738.0\n",
       "21              7.1   98273.0\n",
       "22              7.9  101302.0\n",
       "23              8.2  113812.0\n",
       "24              8.7  109431.0\n",
       "25              9.0  105582.0\n",
       "26              9.5  116969.0\n",
       "27              9.6  112635.0\n",
       "28             10.3  122391.0\n",
       "29             10.5  121872.0"
      ]
     },
     "execution_count": 68,
     "metadata": {},
     "output_type": "execute_result"
    }
   ],
   "source": [
    "#Extracting the dataset from the file. In our example we have salary data file which is of CSV format\n",
    "dataset=pd.read_csv(\"Salary_Data.csv\")\n",
    "dataset  #Display data extracted from the file mentioned in read statement"
   ]
  },
  {
   "cell_type": "code",
   "execution_count": 18,
   "id": "26b055b5-2d8d-475c-a602-7f8dcf25651b",
   "metadata": {},
   "outputs": [],
   "source": [
    "#Spliting input and output data ie assiging input and output data to different variables\n",
    "independent=dataset[[\"YearsExperience\"]] #Assigning input data in variable independent\n",
    "dependent=dataset[[\"Salary\"]]    #Assigning output data in variable dependent"
   ]
  },
  {
   "cell_type": "code",
   "execution_count": 74,
   "id": "4fcf8f66-8df7-42bd-8b75-52bf669efdca",
   "metadata": {},
   "outputs": [
    {
     "data": {
      "image/png": "[encoded data removed]",
      "text/plain": [
       "<Figure size 640x480 with 1 Axes>"
      ]
     },
     "metadata": {},
     "output_type": "display_data"
    }
   ],
   "source": [
    "#Plotting the data in graph to through which we could identify it is an SLR or not\n",
    "mp.scatter(independent,dependent)\n",
    "mp.xlabel(\"Years of Experience\")\n",
    "mp.ylabel(\"Salary\")\n",
    "mp.show()"
   ]
  },
  {
   "cell_type": "code",
   "execution_count": 32,
   "id": "ab44aef0-dd44-4e45-993b-232abcd5b152",
   "metadata": {},
   "outputs": [],
   "source": [
    "#Spliting dataset into traning dataset and test dataset where 30% of data will be taken for test\n",
    "\n",
    "#train_test_split is the to split the dataset and it is available in sklearn.model_selection module\n",
    "from sklearn.model_selection import train_test_split \n",
    "#The input is assigned to x_train and x_test,the output to y_train and y_test\n",
    "#Random_state is the parameter which helps us to split the data on the same way each we run the code \n",
    "#test size indicates the proportion of the data o be taken as test data from the original dataset\n",
    "x_train,x_test,y_train,y_test=train_test_split(independent,dependent,random_state=0,test_size=0.3)\n"
   ]
  },
  {
   "cell_type": "code",
   "execution_count": 50,
   "id": "6bd49a49-6c23-4790-8f19-4054e99316b8",
   "metadata": {},
   "outputs": [
    {
     "name": "stdout",
     "output_type": "stream",
     "text": [
      "Weight of the model={} [[9360.26128619]]\n",
      "Bias of the model={} [26777.3913412]\n"
     ]
    }
   ],
   "source": [
    "from sklearn.linear_model import LinearRegression #Creating model with the training dataset\n",
    "regressor=LinearRegression()  \n",
    "regressor.fit(x_train,y_train) #Model created that is Y=wX+b where weight and bias has been calculated with the dataset\n",
    "w=regressor.coef_\n",
    "print(\"Weight of the model={}\",format(w)) #Displays Weight\n",
    "b=regressor.intercept_\n",
    "print(\"Bias of the model={}\",format(b)) #Displays Bias"
   ]
  },
  {
   "cell_type": "code",
   "execution_count": 52,
   "id": "7de82f50-159a-47af-8082-dbcabc51b8f3",
   "metadata": {},
   "outputs": [],
   "source": [
    "#Predicting the value needed by the user\n",
    "y_pred=regressor.predict(x_test)"
   ]
  },
  {
   "cell_type": "code",
   "execution_count": 62,
   "id": "c436d67f-dc1e-442c-9e6c-977b773cba2d",
   "metadata": {},
   "outputs": [
    {
     "data": {
      "text/plain": [
       "0.9740993407213511"
      ]
     },
     "execution_count": 62,
     "metadata": {},
     "output_type": "execute_result"
    }
   ],
   "source": [
    "#Evaluating the model by using r-score\n",
    "from sklearn.metrics import r2_score\n",
    "rscore=r2_score(y_test,y_pred)  #comparing y_test which is actual value with y_pred which is the predicted value\n",
    "rscore\n",
    "#rscore is near to 1 so it is considered to be a good model and we could save the model"
   ]
  },
  {
   "cell_type": "code",
   "execution_count": 64,
   "id": "46a39677-5d74-4520-a5fc-ac0b637bf4ad",
   "metadata": {},
   "outputs": [],
   "source": [
    "#Pickling is the process of converting a Python object into a byte stream to save it to a file or database, or transfer it over a network\n",
    "import pickle \n",
    "fn=\"finalmodel.sav\"\n",
    "pickle.dump(regressor,open(fn,\"wb\")) #wb is writ binary that is saving the file in binary format or as byte stream"
   ]
  },
  {
   "cell_type": "code",
   "execution_count": null,
   "id": "04d95dfb-f465-469e-abad-3fb779b455fa",
   "metadata": {},
   "outputs": [],
   "source": []
  }
 ],
 "metadata": {
  "kernelspec": {
   "display_name": "Python 3 (ipykernel)",
   "language": "python",
   "name": "python3"
  },
  "language_info": {
   "codemirror_mode": {
    "name": "ipython",
    "version": 3
   },
   "file_extension": ".py",
   "mimetype": "text/x-python",
   "name": "python",
   "nbconvert_exporter": "python",
   "pygments_lexer": "ipython3",
   "version": "3.12.4"
  }
 },
 "nbformat": 4,
 "nbformat_minor": 5
}
